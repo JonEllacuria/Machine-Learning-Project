{
 "cells": [
  {
   "cell_type": "code",
   "execution_count": 1,
   "metadata": {},
   "outputs": [],
   "source": [
    "import pandas as pd\n",
    "import seaborn as sns\n",
    "import numpy as np\n",
    "import matplotlib.pyplot as plt"
   ]
  },
  {
   "cell_type": "code",
   "execution_count": 2,
   "metadata": {},
   "outputs": [],
   "source": [
    "tarjetas=pd.read_csv(\"data/datas limpias/3/data_tarjetas2.csv\")"
   ]
  },
  {
   "cell_type": "code",
   "execution_count": 11,
   "metadata": {},
   "outputs": [],
   "source": [
    "#Primero el equipo local, viendo estadísticas del partido"
   ]
  },
  {
   "cell_type": "code",
   "execution_count": 3,
   "metadata": {},
   "outputs": [],
   "source": [
    "X=tarjetas[[\"clas_local\",\"clas_visitante\",\"Faltas_local\",\"Derribos_local\",\n",
    "            'Árbitro_sum_tarjetas_local','tarjetas_cometidas_local','tarjetas_provocadas_visitante']]\n",
    "Y=tarjetas[\"tarjetas_total_local\"]"
   ]
  },
  {
   "cell_type": "code",
   "execution_count": 4,
   "metadata": {},
   "outputs": [],
   "source": [
    "from sklearn.model_selection import train_test_split\n",
    "X_train,X_test,Y_train,Y_test=train_test_split(X,Y,test_size=0.15,random_state=42)"
   ]
  },
  {
   "cell_type": "code",
   "execution_count": 5,
   "metadata": {},
   "outputs": [],
   "source": [
    "from sklearn.ensemble import RandomForestClassifier,RandomForestRegressor\n",
    "from sklearn.metrics import accuracy_score,precision_score,recall_score,f1_score,roc_auc_score,mean_absolute_error"
   ]
  },
  {
   "cell_type": "code",
   "execution_count": 6,
   "metadata": {},
   "outputs": [
    {
     "data": {
      "text/plain": [
       "1.3603289591074859"
      ]
     },
     "execution_count": 6,
     "metadata": {},
     "output_type": "execute_result"
    }
   ],
   "source": [
    "rnd_clas = RandomForestRegressor(n_estimators=200,\n",
    "                                 max_leaf_nodes=30,\n",
    "                                 random_state=42)\n",
    "rnd_clas.fit(X_train, Y_train)\n",
    "\n",
    "y_pred_clas = rnd_clas.predict(X_test)\n",
    "mean_absolute_error(Y_test, y_pred_clas)"
   ]
  },
  {
   "cell_type": "code",
   "execution_count": 7,
   "metadata": {},
   "outputs": [
    {
     "data": {
      "text/plain": [
       "167    3\n",
       "230    0\n",
       "25     1\n",
       "63     3\n",
       "9      3\n",
       "110    5\n",
       "186    1\n",
       "143    0\n",
       "244    2\n",
       "224    6\n",
       "90     5\n",
       "76     4\n",
       "82     3\n",
       "240    5\n",
       "172    3\n",
       "119    0\n",
       "202    4\n",
       "77     5\n",
       "55     8\n",
       "104    2\n",
       "203    2\n",
       "211    3\n",
       "198    0\n",
       "139    3\n",
       "42     4\n",
       "213    5\n",
       "297    4\n",
       "33     5\n",
       "73     4\n",
       "183    1\n",
       "75     1\n",
       "5      3\n",
       "168    4\n",
       "157    3\n",
       "300    1\n",
       "78     2\n",
       "176    2\n",
       "284    1\n",
       "222    3\n",
       "84     0\n",
       "7      0\n",
       "193    3\n",
       "285    3\n",
       "281    1\n",
       "46     3\n",
       "3      4\n",
       "260    8\n",
       "194    3\n",
       "Name: tarjetas_total_local, dtype: int64"
      ]
     },
     "execution_count": 7,
     "metadata": {},
     "output_type": "execute_result"
    }
   ],
   "source": [
    "Y_test"
   ]
  },
  {
   "cell_type": "code",
   "execution_count": 8,
   "metadata": {},
   "outputs": [
    {
     "data": {
      "text/plain": [
       "array([1.08215304, 3.0405455 , 1.9326072 , 3.8144368 , 1.44276557,\n",
       "       4.3380715 , 1.69229675, 2.17919648, 1.82166176, 3.89316038,\n",
       "       5.13058302, 3.68985009, 2.02400454, 2.85563291, 4.41399141,\n",
       "       3.10879288, 3.59125172, 3.52394946, 3.19541609, 2.51913451,\n",
       "       3.41800738, 2.27055123, 1.36757894, 2.06206242, 3.26064526,\n",
       "       3.18157405, 2.2815947 , 3.49203075, 4.58144744, 2.5695787 ,\n",
       "       1.378664  , 2.9026922 , 2.37128597, 4.00413731, 2.45459154,\n",
       "       3.25362054, 3.19937443, 2.58911109, 4.23957417, 1.95132022,\n",
       "       1.91710058, 2.63370891, 0.99167309, 1.27406384, 2.58399966,\n",
       "       3.23223182, 3.55634865, 1.45564894])"
      ]
     },
     "execution_count": 8,
     "metadata": {},
     "output_type": "execute_result"
    }
   ],
   "source": [
    "y_pred_clas"
   ]
  },
  {
   "cell_type": "code",
   "execution_count": null,
   "metadata": {},
   "outputs": [],
   "source": [
    "#Ahora las visitantes"
   ]
  },
  {
   "cell_type": "code",
   "execution_count": 9,
   "metadata": {},
   "outputs": [],
   "source": [
    "X2=tarjetas[[\"clas_local\",\"clas_visitante\",\"Faltas_visitante\",\"Derribos_visitante\",\n",
    "            'Árbitro_sum_tarjetas_visitante','tarjetas_cometidas_visitante','tarjetas_provocadas_local']]\n",
    "Y2=tarjetas[\"tarjetas_total_visitante\"]"
   ]
  },
  {
   "cell_type": "code",
   "execution_count": 10,
   "metadata": {},
   "outputs": [],
   "source": [
    "from sklearn.model_selection import train_test_split\n",
    "X_train,X_test,Y_train,Y_test=train_test_split(X2,Y2,test_size=0.15,random_state=42)"
   ]
  },
  {
   "cell_type": "code",
   "execution_count": 11,
   "metadata": {},
   "outputs": [
    {
     "data": {
      "text/plain": [
       "1.5892813658399643"
      ]
     },
     "execution_count": 11,
     "metadata": {},
     "output_type": "execute_result"
    }
   ],
   "source": [
    "rnd_clas2 = RandomForestRegressor(n_estimators=200,\n",
    "                                 max_leaf_nodes=30,\n",
    "                                 random_state=42)\n",
    "rnd_clas2.fit(X_train, Y_train)\n",
    "\n",
    "y_pred_clas = rnd_clas2.predict(X_test)\n",
    "mean_absolute_error(Y_test, y_pred_clas)"
   ]
  },
  {
   "cell_type": "code",
   "execution_count": null,
   "metadata": {},
   "outputs": [],
   "source": [
    "#Vamos con las estadísticas pre-partido"
   ]
  },
  {
   "cell_type": "code",
   "execution_count": null,
   "metadata": {},
   "outputs": [],
   "source": [
    "#Local"
   ]
  },
  {
   "cell_type": "code",
   "execution_count": 12,
   "metadata": {},
   "outputs": [],
   "source": [
    "X3=tarjetas[[\"clas_local\",\"clas_visitante\",\"Árbitro_sum_tarjetas_local\",\"faltas_cometidas_local\",\"faltas_provocadas_visitante\",\"tarjetas_cometidas_local\",\n",
    "             'Árbitro_faltas_local',\"tarjetas_provocadas_visitante\"]]\n",
    "Y3=tarjetas[\"tarjetas_total_local\"]"
   ]
  },
  {
   "cell_type": "code",
   "execution_count": 13,
   "metadata": {},
   "outputs": [],
   "source": [
    "X_train,X_test,Y_train,Y_test=train_test_split(X3,Y3,test_size=0.15,random_state=42)"
   ]
  },
  {
   "cell_type": "code",
   "execution_count": 14,
   "metadata": {},
   "outputs": [
    {
     "data": {
      "text/plain": [
       "1.42020917275209"
      ]
     },
     "execution_count": 14,
     "metadata": {},
     "output_type": "execute_result"
    }
   ],
   "source": [
    "rnd_clas3 = RandomForestRegressor(n_estimators=200,\n",
    "                                 max_leaf_nodes=30,\n",
    "                                 random_state=42)\n",
    "rnd_clas3.fit(X_train, Y_train)\n",
    "y_pred_clas = rnd_clas3.predict(X_test)\n",
    "mean_absolute_error(Y_test, y_pred_clas)"
   ]
  },
  {
   "cell_type": "code",
   "execution_count": null,
   "metadata": {},
   "outputs": [],
   "source": []
  },
  {
   "cell_type": "code",
   "execution_count": 103,
   "metadata": {},
   "outputs": [
    {
     "data": {
      "text/plain": [
       "289    3\n",
       "9      3\n",
       "57     0\n",
       "60     1\n",
       "25     1\n",
       "63     3\n",
       "92     3\n",
       "184    4\n",
       "244    2\n",
       "46     3\n",
       "75     1\n",
       "163    2\n",
       "296    3\n",
       "307    0\n",
       "285    3\n",
       "290    4\n",
       "5      3\n",
       "155    1\n",
       "164    5\n",
       "168    4\n",
       "73     4\n",
       "104    2\n",
       "137    7\n",
       "206    1\n",
       "76     4\n",
       "173    1\n",
       "113    6\n",
       "33     5\n",
       "275    3\n",
       "251    1\n",
       "108    2\n",
       "3      4\n",
       "82     3\n",
       "259    4\n",
       "93     1\n",
       "101    2\n",
       "45     3\n",
       "17     2\n",
       "197    4\n",
       "119    0\n",
       "42     4\n",
       "24     5\n",
       "179    2\n",
       "242    4\n",
       "298    2\n",
       "196    1\n",
       "226    1\n",
       "Name: tarjetas_total_local, dtype: int64"
      ]
     },
     "execution_count": 103,
     "metadata": {},
     "output_type": "execute_result"
    }
   ],
   "source": [
    "Y_test"
   ]
  },
  {
   "cell_type": "code",
   "execution_count": 15,
   "metadata": {},
   "outputs": [
    {
     "data": {
      "text/plain": [
       "array([1.04396991, 2.68738284, 1.84093607, 4.09070139, 1.66898996,\n",
       "       4.1107045 , 1.88774805, 2.55271349, 1.63091412, 4.12554171,\n",
       "       4.09596311, 3.44040704, 2.1061704 , 2.97992973, 4.0907818 ,\n",
       "       3.70665432, 3.02103407, 2.57885562, 3.25134481, 2.95663625,\n",
       "       4.19997734, 2.69219774, 1.82771664, 2.73863623, 3.84279894,\n",
       "       2.43182843, 1.80478964, 3.01132726, 4.21981432, 2.50786753,\n",
       "       1.36005086, 2.52665607, 1.93980967, 3.78955068, 2.46025823,\n",
       "       2.97892523, 2.02013196, 2.87005815, 2.5503555 , 1.62814362,\n",
       "       1.50741066, 2.04355229, 1.09994374, 1.43314107, 2.55859544,\n",
       "       2.61438299, 3.22869243, 2.30916885])"
      ]
     },
     "execution_count": 15,
     "metadata": {},
     "output_type": "execute_result"
    }
   ],
   "source": [
    "y_pred_clas"
   ]
  },
  {
   "cell_type": "code",
   "execution_count": null,
   "metadata": {},
   "outputs": [],
   "source": [
    "#Prepartido visitante"
   ]
  },
  {
   "cell_type": "code",
   "execution_count": 16,
   "metadata": {},
   "outputs": [],
   "source": [
    "X4=tarjetas[[\"clas_local\",\"clas_visitante\",\"Árbitro_sum_tarjetas_visitante\",\"faltas_cometidas_visitante\",\"faltas_provocadas_local\",\"tarjetas_cometidas_visitante\",\n",
    "             'Árbitro_faltas_visitante',\"tarjetas_provocadas_local\"]]\n",
    "Y4=tarjetas[\"tarjetas_total_visitante\"]"
   ]
  },
  {
   "cell_type": "code",
   "execution_count": 17,
   "metadata": {},
   "outputs": [
    {
     "data": {
      "text/html": [
       "<div>\n",
       "<style scoped>\n",
       "    .dataframe tbody tr th:only-of-type {\n",
       "        vertical-align: middle;\n",
       "    }\n",
       "\n",
       "    .dataframe tbody tr th {\n",
       "        vertical-align: top;\n",
       "    }\n",
       "\n",
       "    .dataframe thead th {\n",
       "        text-align: right;\n",
       "    }\n",
       "</style>\n",
       "<table border=\"1\" class=\"dataframe\">\n",
       "  <thead>\n",
       "    <tr style=\"text-align: right;\">\n",
       "      <th></th>\n",
       "      <th>clas_local</th>\n",
       "      <th>clas_visitante</th>\n",
       "      <th>Árbitro_sum_tarjetas_visitante</th>\n",
       "      <th>faltas_cometidas_visitante</th>\n",
       "      <th>faltas_provocadas_local</th>\n",
       "      <th>tarjetas_cometidas_visitante</th>\n",
       "      <th>Árbitro_faltas_visitante</th>\n",
       "      <th>tarjetas_provocadas_local</th>\n",
       "    </tr>\n",
       "  </thead>\n",
       "  <tbody>\n",
       "    <tr>\n",
       "      <th>0</th>\n",
       "      <td>3</td>\n",
       "      <td>3</td>\n",
       "      <td>2.222222</td>\n",
       "      <td>11.937500</td>\n",
       "      <td>12.250000</td>\n",
       "      <td>3.937500</td>\n",
       "      <td>12.333333</td>\n",
       "      <td>2.937500</td>\n",
       "    </tr>\n",
       "    <tr>\n",
       "      <th>1</th>\n",
       "      <td>3</td>\n",
       "      <td>2</td>\n",
       "      <td>2.857143</td>\n",
       "      <td>12.125000</td>\n",
       "      <td>13.250000</td>\n",
       "      <td>3.000000</td>\n",
       "      <td>11.928571</td>\n",
       "      <td>3.000000</td>\n",
       "    </tr>\n",
       "    <tr>\n",
       "      <th>2</th>\n",
       "      <td>2</td>\n",
       "      <td>4</td>\n",
       "      <td>1.470588</td>\n",
       "      <td>11.062500</td>\n",
       "      <td>13.687500</td>\n",
       "      <td>2.250000</td>\n",
       "      <td>12.705882</td>\n",
       "      <td>2.062500</td>\n",
       "    </tr>\n",
       "    <tr>\n",
       "      <th>3</th>\n",
       "      <td>5</td>\n",
       "      <td>3</td>\n",
       "      <td>3.933333</td>\n",
       "      <td>15.875000</td>\n",
       "      <td>11.937500</td>\n",
       "      <td>2.875000</td>\n",
       "      <td>12.800000</td>\n",
       "      <td>3.250000</td>\n",
       "    </tr>\n",
       "    <tr>\n",
       "      <th>4</th>\n",
       "      <td>2</td>\n",
       "      <td>4</td>\n",
       "      <td>2.928571</td>\n",
       "      <td>16.470588</td>\n",
       "      <td>12.647059</td>\n",
       "      <td>2.294118</td>\n",
       "      <td>13.000000</td>\n",
       "      <td>2.705882</td>\n",
       "    </tr>\n",
       "    <tr>\n",
       "      <th>...</th>\n",
       "      <td>...</td>\n",
       "      <td>...</td>\n",
       "      <td>...</td>\n",
       "      <td>...</td>\n",
       "      <td>...</td>\n",
       "      <td>...</td>\n",
       "      <td>...</td>\n",
       "      <td>...</td>\n",
       "    </tr>\n",
       "    <tr>\n",
       "      <th>315</th>\n",
       "      <td>4</td>\n",
       "      <td>3</td>\n",
       "      <td>3.647059</td>\n",
       "      <td>11.875000</td>\n",
       "      <td>13.937500</td>\n",
       "      <td>2.437500</td>\n",
       "      <td>15.000000</td>\n",
       "      <td>3.750000</td>\n",
       "    </tr>\n",
       "    <tr>\n",
       "      <th>316</th>\n",
       "      <td>2</td>\n",
       "      <td>2</td>\n",
       "      <td>3.222222</td>\n",
       "      <td>14.500000</td>\n",
       "      <td>14.750000</td>\n",
       "      <td>3.500000</td>\n",
       "      <td>14.777778</td>\n",
       "      <td>3.125000</td>\n",
       "    </tr>\n",
       "    <tr>\n",
       "      <th>317</th>\n",
       "      <td>2</td>\n",
       "      <td>5</td>\n",
       "      <td>3.111111</td>\n",
       "      <td>12.937500</td>\n",
       "      <td>13.687500</td>\n",
       "      <td>3.125000</td>\n",
       "      <td>13.888889</td>\n",
       "      <td>2.062500</td>\n",
       "    </tr>\n",
       "    <tr>\n",
       "      <th>318</th>\n",
       "      <td>3</td>\n",
       "      <td>4</td>\n",
       "      <td>3.823529</td>\n",
       "      <td>13.750000</td>\n",
       "      <td>13.875000</td>\n",
       "      <td>2.187500</td>\n",
       "      <td>14.764706</td>\n",
       "      <td>3.312500</td>\n",
       "    </tr>\n",
       "    <tr>\n",
       "      <th>319</th>\n",
       "      <td>3</td>\n",
       "      <td>3</td>\n",
       "      <td>3.625000</td>\n",
       "      <td>11.687500</td>\n",
       "      <td>13.500000</td>\n",
       "      <td>2.750000</td>\n",
       "      <td>13.250000</td>\n",
       "      <td>2.812500</td>\n",
       "    </tr>\n",
       "  </tbody>\n",
       "</table>\n",
       "<p>320 rows × 8 columns</p>\n",
       "</div>"
      ],
      "text/plain": [
       "     clas_local  clas_visitante  Árbitro_sum_tarjetas_visitante  \\\n",
       "0             3               3                        2.222222   \n",
       "1             3               2                        2.857143   \n",
       "2             2               4                        1.470588   \n",
       "3             5               3                        3.933333   \n",
       "4             2               4                        2.928571   \n",
       "..          ...             ...                             ...   \n",
       "315           4               3                        3.647059   \n",
       "316           2               2                        3.222222   \n",
       "317           2               5                        3.111111   \n",
       "318           3               4                        3.823529   \n",
       "319           3               3                        3.625000   \n",
       "\n",
       "     faltas_cometidas_visitante  faltas_provocadas_local  \\\n",
       "0                     11.937500                12.250000   \n",
       "1                     12.125000                13.250000   \n",
       "2                     11.062500                13.687500   \n",
       "3                     15.875000                11.937500   \n",
       "4                     16.470588                12.647059   \n",
       "..                          ...                      ...   \n",
       "315                   11.875000                13.937500   \n",
       "316                   14.500000                14.750000   \n",
       "317                   12.937500                13.687500   \n",
       "318                   13.750000                13.875000   \n",
       "319                   11.687500                13.500000   \n",
       "\n",
       "     tarjetas_cometidas_visitante  Árbitro_faltas_visitante  \\\n",
       "0                        3.937500                 12.333333   \n",
       "1                        3.000000                 11.928571   \n",
       "2                        2.250000                 12.705882   \n",
       "3                        2.875000                 12.800000   \n",
       "4                        2.294118                 13.000000   \n",
       "..                            ...                       ...   \n",
       "315                      2.437500                 15.000000   \n",
       "316                      3.500000                 14.777778   \n",
       "317                      3.125000                 13.888889   \n",
       "318                      2.187500                 14.764706   \n",
       "319                      2.750000                 13.250000   \n",
       "\n",
       "     tarjetas_provocadas_local  \n",
       "0                     2.937500  \n",
       "1                     3.000000  \n",
       "2                     2.062500  \n",
       "3                     3.250000  \n",
       "4                     2.705882  \n",
       "..                         ...  \n",
       "315                   3.750000  \n",
       "316                   3.125000  \n",
       "317                   2.062500  \n",
       "318                   3.312500  \n",
       "319                   2.812500  \n",
       "\n",
       "[320 rows x 8 columns]"
      ]
     },
     "execution_count": 17,
     "metadata": {},
     "output_type": "execute_result"
    }
   ],
   "source": [
    "X4"
   ]
  },
  {
   "cell_type": "code",
   "execution_count": 18,
   "metadata": {},
   "outputs": [],
   "source": [
    "X_train,X_test,Y_train,Y_test=train_test_split(X4,Y4,test_size=0.15,random_state=42)"
   ]
  },
  {
   "cell_type": "code",
   "execution_count": 19,
   "metadata": {},
   "outputs": [
    {
     "data": {
      "text/plain": [
       "1.6517264038525667"
      ]
     },
     "execution_count": 19,
     "metadata": {},
     "output_type": "execute_result"
    }
   ],
   "source": [
    "rnd_clas4 = RandomForestRegressor(n_estimators=500,\n",
    "                                 max_leaf_nodes=30,\n",
    "                                 max_depth=4,\n",
    "                                 random_state=42)\n",
    "rnd_clas4.fit(X_train, Y_train)\n",
    "y_pred_clas = rnd_clas4.predict(X_test)\n",
    "mean_absolute_error(Y_test, y_pred_clas)"
   ]
  },
  {
   "cell_type": "markdown",
   "metadata": {},
   "source": []
  },
  {
   "cell_type": "markdown",
   "metadata": {},
   "source": []
  },
  {
   "attachments": {},
   "cell_type": "markdown",
   "metadata": {},
   "source": []
  },
  {
   "cell_type": "code",
   "execution_count": 73,
   "metadata": {},
   "outputs": [],
   "source": [
    "#Voy a entrenar ambos modelos con la data completa"
   ]
  },
  {
   "cell_type": "code",
   "execution_count": 20,
   "metadata": {},
   "outputs": [],
   "source": [
    "df_tarjetas_local=pd.read_csv(\"jornada32_tarjetas_local.csv\")"
   ]
  },
  {
   "cell_type": "code",
   "execution_count": 21,
   "metadata": {},
   "outputs": [
    {
     "data": {
      "text/plain": [
       "array([2.60579796, 2.40801484, 2.02740693, 1.60560861, 2.48748073,\n",
       "       3.10294509, 2.94463952, 2.47965356, 3.9366044 , 3.10861817])"
      ]
     },
     "execution_count": 21,
     "metadata": {},
     "output_type": "execute_result"
    }
   ],
   "source": [
    "rnd_clas3 = RandomForestRegressor(n_estimators=200,\n",
    "                                 max_leaf_nodes=30,\n",
    "                                 random_state=42)\n",
    "rnd_clas3.fit(X3, Y3)\n",
    "rnd_clas3.predict(df_tarjetas_local)"
   ]
  },
  {
   "cell_type": "code",
   "execution_count": 22,
   "metadata": {},
   "outputs": [],
   "source": [
    "df_tarjetas_visitante=pd.read_csv(\"jornada32_tarjetas_visitante.csv\")"
   ]
  },
  {
   "cell_type": "code",
   "execution_count": 23,
   "metadata": {},
   "outputs": [
    {
     "data": {
      "text/plain": [
       "array([3.17177645, 3.33828582, 3.00436725, 3.22598222, 2.82838293,\n",
       "       3.35639468, 3.95673215, 2.9608425 , 2.79888978, 3.14318194])"
      ]
     },
     "execution_count": 23,
     "metadata": {},
     "output_type": "execute_result"
    }
   ],
   "source": [
    "rnd_clas4 = RandomForestRegressor(n_estimators=500,\n",
    "                                 max_leaf_nodes=30,\n",
    "                                 max_depth=4,\n",
    "                                 random_state=42)\n",
    "rnd_clas4.fit(X4, Y4)\n",
    "rnd_clas4.predict(df_tarjetas_visitante)"
   ]
  },
  {
   "attachments": {},
   "cell_type": "markdown",
   "metadata": {},
   "source": [
    "Predicción J.33"
   ]
  },
  {
   "cell_type": "code",
   "execution_count": 24,
   "metadata": {},
   "outputs": [],
   "source": [
    "df_tarjetas_local=pd.read_csv(\"jornada33_tarjetas_local.csv\")"
   ]
  },
  {
   "cell_type": "code",
   "execution_count": 25,
   "metadata": {},
   "outputs": [
    {
     "data": {
      "text/plain": [
       "array([1.13939408, 2.81180291, 2.83476652, 1.65562664, 1.91562864,\n",
       "       3.10728202, 2.7938889 , 3.45035973, 3.63058049, 2.83764551])"
      ]
     },
     "execution_count": 25,
     "metadata": {},
     "output_type": "execute_result"
    }
   ],
   "source": [
    "rnd_clas3 = RandomForestRegressor(n_estimators=200,\n",
    "                                 max_leaf_nodes=30,\n",
    "                                 random_state=42)\n",
    "rnd_clas3.fit(X3, Y3)\n",
    "rnd_clas3.predict(df_tarjetas_local)"
   ]
  },
  {
   "cell_type": "code",
   "execution_count": 26,
   "metadata": {},
   "outputs": [],
   "source": [
    "df_tarjetas_visitante=pd.read_csv(\"jornada33_tarjetas_visitante.csv\")"
   ]
  },
  {
   "cell_type": "code",
   "execution_count": 27,
   "metadata": {},
   "outputs": [
    {
     "data": {
      "text/plain": [
       "array([4.15709575, 2.40188118, 3.92405032, 3.78747434, 2.7031622 ,\n",
       "       3.9627051 , 3.41142128, 2.56166575, 3.39661485, 3.62623928])"
      ]
     },
     "execution_count": 27,
     "metadata": {},
     "output_type": "execute_result"
    }
   ],
   "source": [
    "rnd_clas4 = RandomForestRegressor(n_estimators=500,\n",
    "                                 max_leaf_nodes=30,\n",
    "                                 max_depth=4,\n",
    "                                 random_state=42)\n",
    "rnd_clas4.fit(X4, Y4)\n",
    "rnd_clas4.predict(df_tarjetas_visitante)"
   ]
  },
  {
   "cell_type": "code",
   "execution_count": 28,
   "metadata": {},
   "outputs": [],
   "source": [
    "import pickle\n",
    "\n",
    "filename4 = 'tarjetas_local_model.pkl'\n",
    "\n",
    "with open(filename4, 'wb') as archivo_salida:\n",
    "    pickle.dump(rnd_clas3, archivo_salida)"
   ]
  },
  {
   "cell_type": "code",
   "execution_count": 29,
   "metadata": {},
   "outputs": [],
   "source": [
    "filename5 = 'tarjetas_visitante_model.pkl'\n",
    "\n",
    "with open(filename5, 'wb') as archivo_salida:\n",
    "    pickle.dump(rnd_clas4, archivo_salida)"
   ]
  }
 ],
 "metadata": {
  "kernelspec": {
   "display_name": "Python 3",
   "language": "python",
   "name": "python3"
  },
  "language_info": {
   "codemirror_mode": {
    "name": "ipython",
    "version": 3
   },
   "file_extension": ".py",
   "mimetype": "text/x-python",
   "name": "python",
   "nbconvert_exporter": "python",
   "pygments_lexer": "ipython3",
   "version": "3.7.4"
  },
  "orig_nbformat": 4
 },
 "nbformat": 4,
 "nbformat_minor": 2
}
