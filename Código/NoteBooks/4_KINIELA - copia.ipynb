{
 "cells": [
  {
   "cell_type": "code",
   "execution_count": 1,
   "metadata": {},
   "outputs": [],
   "source": [
    "import pandas as pd\n",
    "import seaborn as sns\n",
    "import numpy as np\n",
    "import matplotlib.pyplot as plt"
   ]
  },
  {
   "cell_type": "code",
   "execution_count": 2,
   "metadata": {},
   "outputs": [],
   "source": [
    "resultado=pd.read_csv(\"data/datas limpias/3/data_resultado2.csv\")"
   ]
  },
  {
   "cell_type": "code",
   "execution_count": 4,
   "metadata": {},
   "outputs": [],
   "source": [
    "X1=resultado.copy()\n",
    "X1.drop(columns=[\"quiniela\",'G_esp_local', 'G_esp_visitante','%_Saques_esquina_local_favor', '%_Saques_esquina_visitante_favor',\n",
    "       '%_Saques_esquina_local_contra', '%_Saques_esquina_visitante_contra',\n",
    "       'Árbitro_faltas_local', 'Árbitro_faltas_visitante',\n",
    "       'Árbitro_amarillas_local', 'Árbitro_amarillas_visitante',\n",
    "       'Árbitro_doble_amarilla_local', 'Árbitro_doble_amarilla_visitante',\n",
    "       'Árbitro_roja_directa_local', 'Árbitro_roja_directa_visitante',\n",
    "       'tarjetas_total_local', 'tarjetas_total_visitante',\n",
    "       'Árbitro_sum_tarjetas_local', 'Árbitro_sum_tarjetas_visitante',\n",
    "       'faltas_cometidas_local', 'faltas_cometidas_visitante',\n",
    "       'faltas_provocadas_local', 'faltas_provocadas_visitante',\n",
    "       'amarillas_cometidas_local', 'amarillas_cometidas_visitante','amarillas_provocadas_local', 'amarillas_provocadas_visitante',\n",
    "       'dobles_amarillas_cometidas_local',\n",
    "       'dobles_amarillas_cometidas_visitante',\n",
    "       'dobles_amarillas_provocadas_local',\n",
    "       'dobles_amarillas_provocadas_visitante',\n",
    "       'rojas_directas_cometida_local', 'rojas_directas_cometida_visitante',\n",
    "       'rojas_directas_provocadas_local',\n",
    "       'rojas_directas_provocadas_visitante', 'goles_marcados_local',\n",
    "       'goles_marcados_visitante', 'goles_recibidos_local',\n",
    "       'goles_recibidos_visitante', 'goles_esperados_local',\n",
    "       'goles_esperados_visitante', 'goles_esperados_contra_local',\n",
    "       'goles_esperados_contra_visitante', 'posesion_media_local',\n",
    "       'posesion_media_visitante', '%_disparos_puerta_hechos_local',\n",
    "       '%_disparos_puerta_hechos_visitante',\n",
    "       '%_disparos_puerta_recibidos_local',\n",
    "       '%_disparos_puerta_recibidos_visitante',\n",
    "       '%_pases_cruzados_hechos_local','%_pases_cruzados_hechos_visitante', '%_pases_cruzados_recibidos_local',\n",
    "       '%_pases_cruzados_recibidos_visitante', 'tarjetas_cometidas_local',\n",
    "       'tarjetas_cometidas_visitante', 'tarjetas_provocadas_local',\n",
    "       'tarjetas_provocadas_visitante','Pases_%_local','Pases_%_visitante'],inplace=True)\n",
    "Y=resultado[\"quiniela\"]"
   ]
  },
  {
   "cell_type": "code",
   "execution_count": 5,
   "metadata": {},
   "outputs": [],
   "source": [
    "from sklearn.model_selection import train_test_split\n",
    "X_train,X_test,Y_train,Y_test=train_test_split(X1,Y,test_size=0.15,random_state=42)"
   ]
  },
  {
   "cell_type": "code",
   "execution_count": 6,
   "metadata": {},
   "outputs": [],
   "source": [
    "from sklearn.metrics import accuracy_score,precision_score,recall_score,f1_score,roc_auc_score"
   ]
  },
  {
   "cell_type": "code",
   "execution_count": 9,
   "metadata": {},
   "outputs": [
    {
     "data": {
      "text/plain": [
       "0.6666666666666666"
      ]
     },
     "execution_count": 9,
     "metadata": {},
     "output_type": "execute_result"
    }
   ],
   "source": [
    "from sklearn.ensemble import RandomForestClassifier\n",
    "\n",
    "rnd_clas = RandomForestClassifier(n_estimators=200,\n",
    "                                 max_leaf_nodes=30,\n",
    "                                 random_state=42)\n",
    "rnd_clas.fit(X_train, Y_train)\n",
    "\n",
    "y_pred_clas = rnd_clas.predict(X_test)\n",
    "accuracy_score(Y_test, y_pred_clas)"
   ]
  },
  {
   "cell_type": "code",
   "execution_count": 10,
   "metadata": {},
   "outputs": [
    {
     "data": {
      "text/plain": [
       "array(['1', 'X', '2', '2', '1', '1', '2', '1', '1', '1', '1', '2', '1',\n",
       "       '1', '1', '2', '1', '1', '2', '1', '2', '1', '1', '1', '2', '1',\n",
       "       '1', '1', '1', '1', 'X', '2', '2', '1', '1', '1', '1', '2', '1',\n",
       "       '2', 'X', '1', '1', '1', '2', '1', 'X', '2'], dtype=object)"
      ]
     },
     "execution_count": 10,
     "metadata": {},
     "output_type": "execute_result"
    }
   ],
   "source": [
    "y_pred_clas"
   ]
  },
  {
   "cell_type": "code",
   "execution_count": 8,
   "metadata": {},
   "outputs": [
    {
     "data": {
      "text/plain": [
       "167    X\n",
       "230    X\n",
       "25     X\n",
       "63     2\n",
       "9      1\n",
       "110    X\n",
       "186    2\n",
       "143    1\n",
       "244    1\n",
       "224    1\n",
       "90     X\n",
       "76     X\n",
       "82     X\n",
       "240    X\n",
       "172    1\n",
       "119    2\n",
       "202    1\n",
       "77     1\n",
       "55     2\n",
       "104    X\n",
       "203    2\n",
       "211    X\n",
       "198    1\n",
       "139    1\n",
       "42     2\n",
       "213    1\n",
       "297    1\n",
       "33     X\n",
       "73     X\n",
       "183    1\n",
       "75     X\n",
       "5      1\n",
       "168    2\n",
       "157    1\n",
       "300    1\n",
       "78     1\n",
       "176    X\n",
       "284    2\n",
       "222    1\n",
       "84     2\n",
       "7      X\n",
       "193    X\n",
       "285    1\n",
       "281    2\n",
       "46     2\n",
       "3      X\n",
       "260    X\n",
       "194    2\n",
       "Name: quiniela, dtype: object"
      ]
     },
     "execution_count": 8,
     "metadata": {},
     "output_type": "execute_result"
    }
   ],
   "source": [
    "Y_test"
   ]
  },
  {
   "cell_type": "code",
   "execution_count": 9,
   "metadata": {},
   "outputs": [
    {
     "data": {
      "text/plain": [
       "array([[0.42818752, 0.37696442, 0.19484805],\n",
       "       [0.31898267, 0.28427346, 0.39674387],\n",
       "       [0.22686293, 0.46529882, 0.30783825],\n",
       "       [0.10669084, 0.68435742, 0.20895175],\n",
       "       [0.83007799, 0.05415099, 0.11577102],\n",
       "       [0.60394802, 0.15501287, 0.24103911],\n",
       "       [0.11343428, 0.71235691, 0.17420881],\n",
       "       [0.74495921, 0.10471569, 0.1503251 ],\n",
       "       [0.61504925, 0.14653775, 0.238413  ],\n",
       "       [0.42395743, 0.2072837 , 0.36875887],\n",
       "       [0.39310294, 0.37352906, 0.233368  ],\n",
       "       [0.24075936, 0.50345956, 0.25578108],\n",
       "       [0.37843144, 0.3465974 , 0.27497116],\n",
       "       [0.54419043, 0.17188637, 0.28392321],\n",
       "       [0.48253264, 0.21899365, 0.29847371],\n",
       "       [0.18395391, 0.60919058, 0.2068555 ],\n",
       "       [0.59134831, 0.14504549, 0.2636062 ],\n",
       "       [0.72859507, 0.13653457, 0.13487036],\n",
       "       [0.1487761 , 0.618681  , 0.23254289],\n",
       "       [0.46028409, 0.32756199, 0.21215392],\n",
       "       [0.27346799, 0.46841794, 0.25811408],\n",
       "       [0.7403086 , 0.11915498, 0.14053643],\n",
       "       [0.82378082, 0.02725423, 0.14896495],\n",
       "       [0.5983881 , 0.23642183, 0.16519007],\n",
       "       [0.15901533, 0.65720568, 0.18377899],\n",
       "       [0.45248292, 0.35133152, 0.19618557],\n",
       "       [0.63098271, 0.1720208 , 0.19699649],\n",
       "       [0.48312863, 0.36768626, 0.14918512],\n",
       "       [0.63333668, 0.18925906, 0.17740426],\n",
       "       [0.77091928, 0.04122916, 0.18785156],\n",
       "       [0.27676679, 0.31400125, 0.40923196],\n",
       "       [0.34866442, 0.3583718 , 0.29296379],\n",
       "       [0.1441686 , 0.70178637, 0.15404502],\n",
       "       [0.60598438, 0.15141046, 0.24260516],\n",
       "       [0.4824324 , 0.34479365, 0.17277395],\n",
       "       [0.72698235, 0.09758621, 0.17543144],\n",
       "       [0.52961617, 0.2371787 , 0.23320513],\n",
       "       [0.16675857, 0.67009852, 0.16314291],\n",
       "       [0.66238771, 0.11582677, 0.22178552],\n",
       "       [0.099153  , 0.56982349, 0.33102351],\n",
       "       [0.34387662, 0.23768505, 0.41843832],\n",
       "       [0.59042477, 0.1205311 , 0.28904413],\n",
       "       [0.68182584, 0.11225682, 0.20591734],\n",
       "       [0.48349443, 0.31399092, 0.20251465],\n",
       "       [0.21910225, 0.63557893, 0.14531881],\n",
       "       [0.45098636, 0.23607043, 0.31294321],\n",
       "       [0.3358558 , 0.2601978 , 0.4039464 ],\n",
       "       [0.39123827, 0.43110023, 0.1776615 ]])"
      ]
     },
     "execution_count": 9,
     "metadata": {},
     "output_type": "execute_result"
    }
   ],
   "source": [
    "rnd_clas.predict_proba(X_test)"
   ]
  },
  {
   "cell_type": "code",
   "execution_count": 10,
   "metadata": {},
   "outputs": [],
   "source": [
    "#Vamos con las estadísticas pre-partido\n"
   ]
  },
  {
   "cell_type": "code",
   "execution_count": 12,
   "metadata": {},
   "outputs": [],
   "source": [
    "X2=resultado.copy()\n",
    "X2.drop(columns=[\"quiniela\",'G_esp_local', 'G_esp_visitante',\n",
    "       'quiniela', 'Posesión_local', 'Posesión_visitante',\n",
    "       'Pases_intento_local', 'Pases_buenos_local', 'Pases_%_local',\n",
    "       'Pases_intento_visitante', 'Pases_buenos_visitante',\n",
    "       'Pases_%_visitante', 'Disparos_puerta_intento_local',\n",
    "       'Disparos_puerta_buenos_local', 'Disparos_puerta_%_local',\n",
    "       'Disparos_puerta_intento_visitante', 'Disparos_puerta_buenos_visitante',\n",
    "       'Disparos_puerta_%_visitante', 'Paradas_local', 'Paradas_%_local',\n",
    "       'Paradas_visitante', 'Paradas_%_visitante', 'Amarillas_local',\n",
    "       'expulsion_doble_amarilla_local','expulsión_roja_directa_local', 'Amarillas_visitante',\n",
    "       'expulsion_doble_amarilla_visitante',\n",
    "       'expulsión_roja_directa_visitante', 'Faltas_local', 'Faltas_visitante',\n",
    "       'Saques_esquina_local', 'Saques_esquina_visitante',\n",
    "       'Pases_cruzados_local', 'Pases_cruzados_visitante', 'Toques_local',\n",
    "       'Toques_visitante', 'Derribos_local', 'Derribos_visitante',\n",
    "       'Intercepciones_local', 'Intercepciones_visitante',\n",
    "       'Duelos_aereos_ganados_local', 'Duelos_aereos_ganados_visitante',\n",
    "       'Despejes_local', 'Despejes_visitante', 'Fuera_juego_local',\n",
    "       'Fuera_juego_visitante', 'Saque_puerta_local', 'Saque_puerta_visitante',\n",
    "       'Saque_banda_local','Saque_banda_visitante', 'Pelotazos_local', 'Pelotazos_visitante','Árbitro_faltas_local',\n",
    "       'Árbitro_faltas_visitante', 'Árbitro_amarillas_local',\n",
    "       'Árbitro_amarillas_visitante', 'Árbitro_doble_amarilla_local',\n",
    "       'Árbitro_doble_amarilla_visitante', 'Árbitro_roja_directa_local',\n",
    "       'Árbitro_roja_directa_visitante', 'tarjetas_total_local',\n",
    "       'tarjetas_total_visitante', 'Árbitro_sum_tarjetas_local',\n",
    "       'Árbitro_sum_tarjetas_visitante', 'faltas_cometidas_local',\n",
    "       'faltas_cometidas_visitante', 'faltas_provocadas_local',\n",
    "       'faltas_provocadas_visitante', 'amarillas_cometidas_local',\n",
    "       'amarillas_cometidas_visitante', 'amarillas_provocadas_local',\n",
    "       'amarillas_provocadas_visitante', 'dobles_amarillas_cometidas_local',\n",
    "       'dobles_amarillas_cometidas_visitante',\n",
    "       'dobles_amarillas_provocadas_local',\n",
    "       'dobles_amarillas_provocadas_visitante',\n",
    "       'rojas_directas_cometida_local', 'rojas_directas_cometida_visitante',\n",
    "       'rojas_directas_provocadas_local',\n",
    "       'rojas_directas_provocadas_visitante'],inplace=True)\n",
    "Y=resultado[\"quiniela\"]"
   ]
  },
  {
   "cell_type": "code",
   "execution_count": 13,
   "metadata": {},
   "outputs": [],
   "source": [
    "from sklearn.model_selection import train_test_split\n",
    "X_train,X_test,Y_train,Y_test=train_test_split(X2,Y,test_size=0.15,random_state=42)"
   ]
  },
  {
   "cell_type": "code",
   "execution_count": 14,
   "metadata": {},
   "outputs": [
    {
     "data": {
      "text/plain": [
       "0.3958333333333333"
      ]
     },
     "execution_count": 14,
     "metadata": {},
     "output_type": "execute_result"
    }
   ],
   "source": [
    "from sklearn.ensemble import RandomForestClassifier\n",
    "\n",
    "rnd_clas = RandomForestClassifier(n_estimators=200,\n",
    "                                 max_leaf_nodes=30,\n",
    "                                 random_state=42)\n",
    "rnd_clas.fit(X_train, Y_train)\n",
    "\n",
    "y_pred_clas = rnd_clas.predict(X_test)\n",
    "accuracy_score(Y_test, y_pred_clas)"
   ]
  },
  {
   "cell_type": "code",
   "execution_count": 15,
   "metadata": {},
   "outputs": [],
   "source": [
    "#Parece que sale mejor obviando al árbitro"
   ]
  },
  {
   "cell_type": "code",
   "execution_count": 16,
   "metadata": {},
   "outputs": [],
   "source": [
    "jornada_32=pd.read_csv(\"jornada32.csv\")"
   ]
  },
  {
   "cell_type": "code",
   "execution_count": 17,
   "metadata": {},
   "outputs": [
    {
     "data": {
      "text/plain": [
       "0.76875"
      ]
     },
     "execution_count": 17,
     "metadata": {},
     "output_type": "execute_result"
    }
   ],
   "source": [
    "#Entreno el modelo con toda la data\n",
    "rnd_clas2 = RandomForestClassifier(n_estimators=200,\n",
    "                                 max_leaf_nodes=30,\n",
    "                                 random_state=42)\n",
    "rnd_clas2.fit(X2, Y)\n",
    "\n",
    "y_pred_clas = rnd_clas.predict(X2)\n",
    "accuracy_score(Y, y_pred_clas)"
   ]
  },
  {
   "cell_type": "code",
   "execution_count": 18,
   "metadata": {},
   "outputs": [
    {
     "data": {
      "text/plain": [
       "array(['2', '2', '1', '1', '1', '1', '1', '2', 'X', '2'], dtype=object)"
      ]
     },
     "execution_count": 18,
     "metadata": {},
     "output_type": "execute_result"
    }
   ],
   "source": [
    "#Predicción entrenando con la data Train\n",
    "rnd_clas.predict(jornada_32)"
   ]
  },
  {
   "cell_type": "code",
   "execution_count": 19,
   "metadata": {},
   "outputs": [
    {
     "data": {
      "text/plain": [
       "array([[0.17989395, 0.74710665, 0.0729994 ],\n",
       "       [0.26053497, 0.54150921, 0.19795582],\n",
       "       [0.87722517, 0.05158558, 0.07118925],\n",
       "       [0.779298  , 0.09177186, 0.12893015],\n",
       "       [0.53689199, 0.27448432, 0.1886237 ],\n",
       "       [0.67573693, 0.1442909 , 0.17997217],\n",
       "       [0.52575152, 0.16800599, 0.30624249],\n",
       "       [0.2403239 , 0.58839876, 0.17127734],\n",
       "       [0.28745294, 0.22702526, 0.4855218 ],\n",
       "       [0.32694485, 0.42455422, 0.24850093]])"
      ]
     },
     "execution_count": 19,
     "metadata": {},
     "output_type": "execute_result"
    }
   ],
   "source": [
    "rnd_clas.predict_proba(jornada_32)"
   ]
  },
  {
   "cell_type": "code",
   "execution_count": 20,
   "metadata": {},
   "outputs": [
    {
     "data": {
      "text/plain": [
       "array(['2', '2', '1', '1', '1', '1', '1', '2', 'X', '2'], dtype=object)"
      ]
     },
     "execution_count": 20,
     "metadata": {},
     "output_type": "execute_result"
    }
   ],
   "source": [
    "#Predicción entrenando con toda la data\n",
    "rnd_clas2.predict(jornada_32)"
   ]
  },
  {
   "cell_type": "code",
   "execution_count": 21,
   "metadata": {},
   "outputs": [
    {
     "data": {
      "text/plain": [
       "array([[0.24796272, 0.67998025, 0.07205703],\n",
       "       [0.26219891, 0.53673725, 0.20106383],\n",
       "       [0.8506912 , 0.05209719, 0.09721161],\n",
       "       [0.74512576, 0.09346605, 0.16140819],\n",
       "       [0.48220543, 0.26499602, 0.25279855],\n",
       "       [0.5805408 , 0.21078673, 0.20867247],\n",
       "       [0.40965958, 0.23941369, 0.35092673],\n",
       "       [0.2280417 , 0.60095876, 0.17099954],\n",
       "       [0.30382524, 0.25843725, 0.43773751],\n",
       "       [0.32750478, 0.36543054, 0.30706467]])"
      ]
     },
     "execution_count": 21,
     "metadata": {},
     "output_type": "execute_result"
    }
   ],
   "source": [
    "rnd_clas2.predict_proba(jornada_32)"
   ]
  },
  {
   "cell_type": "code",
   "execution_count": 22,
   "metadata": {},
   "outputs": [],
   "source": [
    "#Voy a ver si saco el mejor RandomForest\n",
    "from sklearn.ensemble import RandomForestClassifier\n",
    "from sklearn.model_selection import GridSearchCV\n",
    "\n",
    "# Definir el modelo a utilizar\n",
    "rfc = RandomForestClassifier()\n",
    "\n"
   ]
  },
  {
   "cell_type": "code",
   "execution_count": 23,
   "metadata": {},
   "outputs": [],
   "source": [
    "# Definir los parámetros a ajustar\n",
    "param_grid = {\n",
    "    'n_estimators': [100, 200, 500],\n",
    "    'max_depth': [None, 5, 10],\n",
    "    'min_samples_split': [2, 5, 10],\n",
    "    'min_samples_leaf': [1, 2, 4],\n",
    "    'max_features': ['auto', 'sqrt']\n",
    "}\n",
    "\n",
    "# Realizar el GridSearchCV\n",
    "grid_search = GridSearchCV(estimator = rfc, param_grid = param_grid, \n",
    "                          cv = 5, n_jobs = -1, verbose = 2)"
   ]
  },
  {
   "cell_type": "code",
   "execution_count": 24,
   "metadata": {},
   "outputs": [
    {
     "name": "stdout",
     "output_type": "stream",
     "text": [
      "Fitting 5 folds for each of 162 candidates, totalling 810 fits\n"
     ]
    },
    {
     "data": {
      "text/plain": [
       "GridSearchCV(cv=5, estimator=RandomForestClassifier(), n_jobs=-1,\n",
       "             param_grid={'max_depth': [None, 5, 10],\n",
       "                         'max_features': ['auto', 'sqrt'],\n",
       "                         'min_samples_leaf': [1, 2, 4],\n",
       "                         'min_samples_split': [2, 5, 10],\n",
       "                         'n_estimators': [100, 200, 500]},\n",
       "             verbose=2)"
      ]
     },
     "execution_count": 24,
     "metadata": {},
     "output_type": "execute_result"
    }
   ],
   "source": [
    "grid_search.fit(X2, Y)"
   ]
  },
  {
   "cell_type": "code",
   "execution_count": 25,
   "metadata": {},
   "outputs": [
    {
     "data": {
      "text/plain": [
       "RandomForestClassifier(max_depth=5, min_samples_leaf=2, min_samples_split=10)"
      ]
     },
     "execution_count": 25,
     "metadata": {},
     "output_type": "execute_result"
    }
   ],
   "source": [
    "grid_search.best_estimator_"
   ]
  },
  {
   "cell_type": "code",
   "execution_count": 26,
   "metadata": {},
   "outputs": [
    {
     "data": {
      "text/plain": [
       "RandomForestClassifier(max_depth=5, max_features='sqrt', min_samples_leaf=2,\n",
       "                       min_samples_split=5, n_estimators=500)"
      ]
     },
     "execution_count": 26,
     "metadata": {},
     "output_type": "execute_result"
    }
   ],
   "source": [
    "rnd_clas3 = RandomForestClassifier(max_depth=5, max_features='sqrt', min_samples_leaf=2,\n",
    "                       min_samples_split=5, n_estimators=500)\n",
    "rnd_clas3.fit(X2, Y)\n",
    "\n"
   ]
  },
  {
   "cell_type": "code",
   "execution_count": 27,
   "metadata": {},
   "outputs": [
    {
     "data": {
      "text/plain": [
       "array(['2', '2', '1', '1', '1', '1', '1', '2', 'X', '1'], dtype=object)"
      ]
     },
     "execution_count": 27,
     "metadata": {},
     "output_type": "execute_result"
    }
   ],
   "source": [
    "#Con los parámetros optimizados\n",
    "rnd_clas3.predict(jornada_32)"
   ]
  },
  {
   "cell_type": "code",
   "execution_count": 28,
   "metadata": {},
   "outputs": [
    {
     "data": {
      "text/plain": [
       "array([[0.24725192, 0.63302762, 0.11972045],\n",
       "       [0.26940151, 0.48145947, 0.24913903],\n",
       "       [0.8755299 , 0.04885343, 0.07561667],\n",
       "       [0.70406112, 0.11301835, 0.18292053],\n",
       "       [0.44391837, 0.26698181, 0.28909982],\n",
       "       [0.60470763, 0.18084711, 0.21444526],\n",
       "       [0.39154229, 0.2629939 , 0.34546382],\n",
       "       [0.24097046, 0.54951046, 0.20951909],\n",
       "       [0.34820251, 0.23566417, 0.41613331],\n",
       "       [0.39971032, 0.3213994 , 0.27889028]])"
      ]
     },
     "execution_count": 28,
     "metadata": {},
     "output_type": "execute_result"
    }
   ],
   "source": [
    "rnd_clas3.predict_proba(jornada_32)"
   ]
  },
  {
   "attachments": {},
   "cell_type": "markdown",
   "metadata": {},
   "source": [
    "Predicción J.33"
   ]
  },
  {
   "cell_type": "code",
   "execution_count": 29,
   "metadata": {},
   "outputs": [],
   "source": [
    "jornada_33=pd.read_csv(\"jornada33_resultados.csv\")"
   ]
  },
  {
   "cell_type": "code",
   "execution_count": 30,
   "metadata": {},
   "outputs": [
    {
     "data": {
      "text/plain": [
       "array(['1', '2', '1', '1', '1', '1', '1', '2', '1', '1'], dtype=object)"
      ]
     },
     "execution_count": 30,
     "metadata": {},
     "output_type": "execute_result"
    }
   ],
   "source": [
    "rnd_clas2.predict(jornada_33)"
   ]
  },
  {
   "cell_type": "code",
   "execution_count": 31,
   "metadata": {},
   "outputs": [
    {
     "data": {
      "text/plain": [
       "array([[0.53585948, 0.19134454, 0.27279598],\n",
       "       [0.38430463, 0.41747436, 0.19822101],\n",
       "       [0.65772594, 0.17711139, 0.16516267],\n",
       "       [0.50215641, 0.27821429, 0.2196293 ],\n",
       "       [0.51431547, 0.34013914, 0.14554539],\n",
       "       [0.55873031, 0.24023377, 0.20103592],\n",
       "       [0.4492394 , 0.38788551, 0.16287509],\n",
       "       [0.34408703, 0.38577095, 0.27014202],\n",
       "       [0.44315701, 0.29595159, 0.2608914 ],\n",
       "       [0.58635501, 0.20824236, 0.20540263]])"
      ]
     },
     "execution_count": 31,
     "metadata": {},
     "output_type": "execute_result"
    }
   ],
   "source": [
    "rnd_clas2.predict_proba(jornada_33)"
   ]
  },
  {
   "cell_type": "code",
   "execution_count": 32,
   "metadata": {},
   "outputs": [],
   "source": [
    "import pickle\n",
    "\n",
    "filename = 'resultados_model.pkl'\n",
    "\n",
    "with open(filename, 'wb') as archivo_salida:\n",
    "    pickle.dump(rnd_clas2, archivo_salida)"
   ]
  }
 ],
 "metadata": {
  "kernelspec": {
   "display_name": "Python 3",
   "language": "python",
   "name": "python3"
  },
  "language_info": {
   "codemirror_mode": {
    "name": "ipython",
    "version": 3
   },
   "file_extension": ".py",
   "mimetype": "text/x-python",
   "name": "python",
   "nbconvert_exporter": "python",
   "pygments_lexer": "ipython3",
   "version": "3.7.4"
  },
  "orig_nbformat": 4
 },
 "nbformat": 4,
 "nbformat_minor": 2
}
