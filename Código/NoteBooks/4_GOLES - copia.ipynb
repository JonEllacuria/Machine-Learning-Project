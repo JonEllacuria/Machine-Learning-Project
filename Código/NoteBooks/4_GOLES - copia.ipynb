{
 "cells": [
  {
   "cell_type": "code",
   "execution_count": null,
   "metadata": {},
   "outputs": [],
   "source": [
    "#Habría que hacer lo mismo pero con un clasificador (aunque sea 0,1,2,3,4,5,6,7,8)"
   ]
  },
  {
   "cell_type": "code",
   "execution_count": 1,
   "metadata": {},
   "outputs": [],
   "source": [
    "import pandas as pd\n",
    "import seaborn as sns\n",
    "import numpy as np\n",
    "import matplotlib.pyplot as plt"
   ]
  },
  {
   "cell_type": "code",
   "execution_count": 2,
   "metadata": {},
   "outputs": [],
   "source": [
    "goles=pd.read_csv(\"data/datas limpias/3/data_goles2.csv\")"
   ]
  },
  {
   "cell_type": "code",
   "execution_count": null,
   "metadata": {},
   "outputs": [],
   "source": [
    "#Primero el equipo local, viendo estadísticas del partido"
   ]
  },
  {
   "cell_type": "code",
   "execution_count": 3,
   "metadata": {},
   "outputs": [],
   "source": [
    "X=goles[['clas_local', 'clas_visitante','Disparos_puerta_intento_local',\n",
    "       'Disparos_puerta_buenos_local','Paradas_visitante','Saques_esquina_local','Pases_cruzados_local','goles_marcados_local','goles_recibidos_visitante']]\n",
    "Y=goles[\"Goles_local\"]"
   ]
  },
  {
   "cell_type": "code",
   "execution_count": 4,
   "metadata": {},
   "outputs": [],
   "source": [
    "from sklearn.ensemble import RandomForestClassifier,RandomForestRegressor\n",
    "from sklearn.metrics import accuracy_score,precision_score,recall_score,f1_score,roc_auc_score,mean_absolute_error"
   ]
  },
  {
   "cell_type": "code",
   "execution_count": 5,
   "metadata": {},
   "outputs": [],
   "source": [
    "from sklearn.model_selection import train_test_split\n",
    "X_train,X_test,Y_train,Y_test=train_test_split(X,Y,test_size=0.15,random_state=42)"
   ]
  },
  {
   "cell_type": "code",
   "execution_count": 6,
   "metadata": {},
   "outputs": [
    {
     "data": {
      "text/plain": [
       "0.4397848410000587"
      ]
     },
     "execution_count": 6,
     "metadata": {},
     "output_type": "execute_result"
    }
   ],
   "source": [
    "rnd_clas = RandomForestRegressor(n_estimators=200,\n",
    "                                 max_leaf_nodes=30,\n",
    "                                 random_state=42)\n",
    "rnd_clas.fit(X_train, Y_train)\n",
    "\n",
    "y_pred_clas = rnd_clas.predict(X_test)\n",
    "mean_absolute_error(Y_test, y_pred_clas)"
   ]
  },
  {
   "cell_type": "code",
   "execution_count": 7,
   "metadata": {},
   "outputs": [
    {
     "data": {
      "text/plain": [
       "167    1\n",
       "230    0\n",
       "25     0\n",
       "63     0\n",
       "9      3\n",
       "110    1\n",
       "186    0\n",
       "143    2\n",
       "244    1\n",
       "224    1\n",
       "90     1\n",
       "76     2\n",
       "82     2\n",
       "240    2\n",
       "172    1\n",
       "119    0\n",
       "202    2\n",
       "77     1\n",
       "55     0\n",
       "104    2\n",
       "203    1\n",
       "211    1\n",
       "198    3\n",
       "139    2\n",
       "42     2\n",
       "213    4\n",
       "297    1\n",
       "33     1\n",
       "73     1\n",
       "183    3\n",
       "75     0\n",
       "5      1\n",
       "168    1\n",
       "157    2\n",
       "300    4\n",
       "78     1\n",
       "176    1\n",
       "284    0\n",
       "222    1\n",
       "84     0\n",
       "7      0\n",
       "193    1\n",
       "285    2\n",
       "281    1\n",
       "46     1\n",
       "3      0\n",
       "260    0\n",
       "194    3\n",
       "Name: Goles_local, dtype: int64"
      ]
     },
     "execution_count": 7,
     "metadata": {},
     "output_type": "execute_result"
    }
   ],
   "source": [
    "Y_test"
   ]
  },
  {
   "cell_type": "code",
   "execution_count": 8,
   "metadata": {},
   "outputs": [
    {
     "data": {
      "text/plain": [
       "array([1.39971625, 0.30575066, 0.5819162 , 0.22587332, 2.83540952,\n",
       "       1.04995158, 0.34496522, 2.48804181, 0.99746036, 0.3349976 ,\n",
       "       0.82201361, 1.00375907, 1.38312289, 1.24038868, 0.82830699,\n",
       "       0.25092077, 1.38765661, 1.39170665, 0.24948802, 1.81434082,\n",
       "       1.55780632, 1.40404727, 2.6907943 , 2.05042728, 0.87659562,\n",
       "       2.44632087, 0.97088171, 1.06495337, 1.04460664, 2.41593358,\n",
       "       0.4289525 , 1.20785994, 0.62385458, 1.4756127 , 2.2258583 ,\n",
       "       1.41938958, 0.76644127, 0.30991552, 1.05956596, 0.20637368,\n",
       "       0.82352087, 0.89970592, 2.08888646, 1.43986383, 0.80169251,\n",
       "       1.16017026, 0.84325142, 2.44710151])"
      ]
     },
     "execution_count": 8,
     "metadata": {},
     "output_type": "execute_result"
    }
   ],
   "source": [
    "y_pred_clas"
   ]
  },
  {
   "cell_type": "code",
   "execution_count": 9,
   "metadata": {},
   "outputs": [],
   "source": [
    "#Visitante"
   ]
  },
  {
   "cell_type": "code",
   "execution_count": 10,
   "metadata": {},
   "outputs": [],
   "source": [
    "X2=goles[['clas_local', 'clas_visitante','Disparos_puerta_intento_visitante',\n",
    "       'Disparos_puerta_buenos_visitante','Paradas_local','Saques_esquina_visitante','Pases_cruzados_visitante','goles_marcados_visitante',\n",
    "       'goles_recibidos_local']]\n",
    "Y2=goles[\"Goles_visitante\"]"
   ]
  },
  {
   "cell_type": "code",
   "execution_count": 11,
   "metadata": {},
   "outputs": [],
   "source": [
    "from sklearn.model_selection import train_test_split\n",
    "X_train,X_test,Y_train,Y_test=train_test_split(X2,Y2,test_size=0.15,random_state=42)"
   ]
  },
  {
   "cell_type": "code",
   "execution_count": 12,
   "metadata": {},
   "outputs": [
    {
     "data": {
      "text/plain": [
       "0.3773537109570299"
      ]
     },
     "execution_count": 12,
     "metadata": {},
     "output_type": "execute_result"
    }
   ],
   "source": [
    "rnd_clas2 = RandomForestRegressor(n_estimators=200,\n",
    "                                 max_leaf_nodes=30,\n",
    "                                 random_state=42)\n",
    "rnd_clas2.fit(X_train, Y_train)\n",
    "\n",
    "y_pred_clas = rnd_clas2.predict(X_test)\n",
    "mean_absolute_error(Y_test, y_pred_clas)"
   ]
  },
  {
   "cell_type": "code",
   "execution_count": null,
   "metadata": {},
   "outputs": [],
   "source": [
    "#Estadísticas pre-partido"
   ]
  },
  {
   "cell_type": "code",
   "execution_count": null,
   "metadata": {},
   "outputs": [],
   "source": [
    "#Local"
   ]
  },
  {
   "cell_type": "code",
   "execution_count": 13,
   "metadata": {},
   "outputs": [],
   "source": [
    "X3=goles[['clas_local', 'clas_visitante','goles_marcados_local','goles_recibidos_visitante','goles_esperados_local',\n",
    "          'goles_esperados_contra_visitante','%_disparos_puerta_hechos_local',\n",
    "       '%_disparos_puerta_recibidos_visitante','%_pases_cruzados_hechos_local','%_pases_cruzados_recibidos_visitante']]\n",
    "Y3=goles[\"Goles_local\"]"
   ]
  },
  {
   "cell_type": "code",
   "execution_count": 14,
   "metadata": {},
   "outputs": [],
   "source": [
    "from sklearn.model_selection import train_test_split\n",
    "X_train,X_test,Y_train,Y_test=train_test_split(X3,Y3,test_size=0.15,random_state=42)"
   ]
  },
  {
   "cell_type": "code",
   "execution_count": 15,
   "metadata": {},
   "outputs": [
    {
     "data": {
      "text/plain": [
       "0.7857938199786595"
      ]
     },
     "execution_count": 15,
     "metadata": {},
     "output_type": "execute_result"
    }
   ],
   "source": [
    "rnd_clas3 = RandomForestRegressor(n_estimators=200,\n",
    "                                 max_leaf_nodes=30,\n",
    "                                 random_state=42)\n",
    "rnd_clas3.fit(X_train, Y_train)\n",
    "\n",
    "y_pred_clas = rnd_clas3.predict(X_test)\n",
    "mean_absolute_error(Y_test, y_pred_clas)"
   ]
  },
  {
   "cell_type": "code",
   "execution_count": null,
   "metadata": {},
   "outputs": [],
   "source": [
    "#Visitante"
   ]
  },
  {
   "cell_type": "code",
   "execution_count": 16,
   "metadata": {},
   "outputs": [],
   "source": [
    "X4=goles[['clas_local', 'clas_visitante','goles_marcados_visitante','goles_recibidos_local','goles_esperados_visitante',\n",
    "          'goles_esperados_contra_local','%_disparos_puerta_hechos_visitante',\n",
    "       '%_disparos_puerta_recibidos_local','%_pases_cruzados_hechos_visitante','%_pases_cruzados_recibidos_local']]\n",
    "Y4=goles[\"Goles_visitante\"]"
   ]
  },
  {
   "cell_type": "code",
   "execution_count": 17,
   "metadata": {},
   "outputs": [],
   "source": [
    "from sklearn.model_selection import train_test_split\n",
    "X_train,X_test,Y_train,Y_test=train_test_split(X4,Y4,test_size=0.15,random_state=42)"
   ]
  },
  {
   "cell_type": "code",
   "execution_count": 18,
   "metadata": {},
   "outputs": [
    {
     "data": {
      "text/plain": [
       "0.940419206349536"
      ]
     },
     "execution_count": 18,
     "metadata": {},
     "output_type": "execute_result"
    }
   ],
   "source": [
    "rnd_clas4 = RandomForestRegressor(n_estimators=200,\n",
    "                                 max_leaf_nodes=30,\n",
    "                                 random_state=42)\n",
    "rnd_clas4.fit(X_train, Y_train)\n",
    "\n",
    "y_pred_clas = rnd_clas4.predict(X_test)\n",
    "mean_absolute_error(Y_test, y_pred_clas)"
   ]
  },
  {
   "cell_type": "code",
   "execution_count": null,
   "metadata": {},
   "outputs": [],
   "source": [
    "#Hago Clasificador"
   ]
  },
  {
   "cell_type": "code",
   "execution_count": 19,
   "metadata": {},
   "outputs": [],
   "source": [
    "valores = Y3\n",
    "limites = [0, 1, 2, 3, 4, 5, 6, 7, 10, 11]\n",
    "etiquetas = [\"0\", \"1\", \"2\", \"3\", \"4\", \"5\", \"6\", \"7\", \"10\"]\n",
    "tramos = np.digitize(valores, limites)\n",
    "valores_etiquetados3 = np.array([etiquetas[i-1] for i in tramos])"
   ]
  },
  {
   "cell_type": "code",
   "execution_count": 20,
   "metadata": {},
   "outputs": [],
   "source": [
    "from sklearn.model_selection import train_test_split\n",
    "X_train,X_test,Y_train,Y_test=train_test_split(X3,valores_etiquetados3,test_size=0.15,random_state=42)"
   ]
  },
  {
   "cell_type": "code",
   "execution_count": 21,
   "metadata": {},
   "outputs": [
    {
     "data": {
      "text/plain": [
       "0.5"
      ]
     },
     "execution_count": 21,
     "metadata": {},
     "output_type": "execute_result"
    }
   ],
   "source": [
    "from sklearn.ensemble import RandomForestClassifier\n",
    "\n",
    "rnd_clas5 = RandomForestClassifier(n_estimators=200,\n",
    "                                 max_leaf_nodes=30,\n",
    "                                 random_state=42)\n",
    "rnd_clas5.fit(X_train, Y_train)\n",
    "\n",
    "y_pred_clas4 = rnd_clas5.predict(X_test)\n",
    "accuracy_score(Y_test, y_pred_clas4)"
   ]
  },
  {
   "cell_type": "code",
   "execution_count": 22,
   "metadata": {},
   "outputs": [],
   "source": [
    "valores = Y4\n",
    "limites = [0, 1, 2, 3, 4, 5, 6, 7, 10, 11]\n",
    "etiquetas = [\"0\", \"1\", \"2\", \"3\", \"4\", \"5\", \"6\", \"7\", \"10\"]\n",
    "tramos = np.digitize(valores, limites)\n",
    "valores_etiquetados4 = np.array([etiquetas[i-1] for i in tramos])"
   ]
  },
  {
   "cell_type": "code",
   "execution_count": 23,
   "metadata": {},
   "outputs": [],
   "source": [
    "from sklearn.model_selection import train_test_split\n",
    "X_train,X_test,Y_train,Y_test=train_test_split(X4,valores_etiquetados4,test_size=0.15,random_state=42)"
   ]
  },
  {
   "cell_type": "code",
   "execution_count": 24,
   "metadata": {},
   "outputs": [
    {
     "data": {
      "text/plain": [
       "0.375"
      ]
     },
     "execution_count": 24,
     "metadata": {},
     "output_type": "execute_result"
    }
   ],
   "source": [
    "from sklearn.ensemble import RandomForestClassifier\n",
    "\n",
    "rnd_clas6 = RandomForestClassifier(n_estimators=200,\n",
    "                                 max_leaf_nodes=30,\n",
    "                                 random_state=42)\n",
    "rnd_clas6.fit(X_train, Y_train)\n",
    "\n",
    "y_pred_clas4 = rnd_clas6.predict(X_test)\n",
    "accuracy_score(Y_test, y_pred_clas4)"
   ]
  },
  {
   "cell_type": "markdown",
   "metadata": {},
   "source": []
  },
  {
   "cell_type": "markdown",
   "metadata": {},
   "source": []
  },
  {
   "cell_type": "code",
   "execution_count": 25,
   "metadata": {},
   "outputs": [],
   "source": [
    "goles_local=pd.read_csv(\"jornada32_goles_local.csv\")"
   ]
  },
  {
   "cell_type": "code",
   "execution_count": 26,
   "metadata": {},
   "outputs": [
    {
     "data": {
      "text/plain": [
       "array(['0', '0', '4', '1', '1', '1', '1', '0', '1', '1'], dtype='<U1')"
      ]
     },
     "execution_count": 26,
     "metadata": {},
     "output_type": "execute_result"
    }
   ],
   "source": [
    "rnd_clas5 = RandomForestClassifier(n_estimators=200,\n",
    "                                 max_leaf_nodes=30,\n",
    "                                 random_state=42)\n",
    "rnd_clas5.fit(X3, valores_etiquetados3)\n",
    "\n",
    "rnd_clas5.predict(goles_local)"
   ]
  },
  {
   "cell_type": "code",
   "execution_count": 27,
   "metadata": {},
   "outputs": [],
   "source": [
    "labels=rnd_clas5.classes_\n",
    "probs = rnd_clas5.predict_proba(goles_local)"
   ]
  },
  {
   "cell_type": "code",
   "execution_count": 28,
   "metadata": {},
   "outputs": [
    {
     "name": "stdout",
     "output_type": "stream",
     "text": [
      "Probabilidades para el partido 1: \n",
      "     0 : 42.74%\n",
      "     1 : 38.05%\n",
      "     2 : 15.28%\n",
      "     3 : 2.96%\n",
      "     4 : 0.91%\n",
      "     5 : 0.06%\n",
      "     6 : 0.00%\n",
      "Probabilidades para el partido 2: \n",
      "     0 : 39.48%\n",
      "     1 : 30.57%\n",
      "     2 : 15.82%\n",
      "     3 : 8.42%\n",
      "     4 : 5.61%\n",
      "     5 : 0.09%\n",
      "     6 : 0.00%\n",
      "Probabilidades para el partido 3: \n",
      "     0 : 1.38%\n",
      "     1 : 10.28%\n",
      "     2 : 26.32%\n",
      "     3 : 20.86%\n",
      "     4 : 30.04%\n",
      "     5 : 0.03%\n",
      "     6 : 11.10%\n",
      "Probabilidades para el partido 4: \n",
      "     0 : 14.82%\n",
      "     1 : 32.57%\n",
      "     2 : 21.00%\n",
      "     3 : 13.84%\n",
      "     4 : 17.11%\n",
      "     5 : 0.32%\n",
      "     6 : 0.35%\n",
      "Probabilidades para el partido 5: \n",
      "     0 : 29.06%\n",
      "     1 : 38.23%\n",
      "     2 : 26.53%\n",
      "     3 : 3.42%\n",
      "     4 : 2.52%\n",
      "     5 : 0.21%\n",
      "     6 : 0.03%\n",
      "Probabilidades para el partido 6: \n",
      "     0 : 17.62%\n",
      "     1 : 29.39%\n",
      "     2 : 23.90%\n",
      "     3 : 21.59%\n",
      "     4 : 6.29%\n",
      "     5 : 0.25%\n",
      "     6 : 0.97%\n",
      "Probabilidades para el partido 7: \n",
      "     0 : 30.10%\n",
      "     1 : 30.77%\n",
      "     2 : 26.21%\n",
      "     3 : 7.31%\n",
      "     4 : 2.43%\n",
      "     5 : 3.13%\n",
      "     6 : 0.05%\n",
      "Probabilidades para el partido 8: \n",
      "     0 : 43.54%\n",
      "     1 : 33.90%\n",
      "     2 : 15.42%\n",
      "     3 : 5.51%\n",
      "     4 : 1.60%\n",
      "     5 : 0.02%\n",
      "     6 : 0.00%\n",
      "Probabilidades para el partido 9: \n",
      "     0 : 24.88%\n",
      "     1 : 52.25%\n",
      "     2 : 13.82%\n",
      "     3 : 5.77%\n",
      "     4 : 3.22%\n",
      "     5 : 0.05%\n",
      "     6 : 0.00%\n",
      "Probabilidades para el partido 10: \n",
      "     0 : 26.14%\n",
      "     1 : 29.62%\n",
      "     2 : 25.85%\n",
      "     3 : 15.36%\n",
      "     4 : 1.60%\n",
      "     5 : 1.35%\n",
      "     6 : 0.09%\n"
     ]
    }
   ],
   "source": [
    "for i, prob in enumerate(probs):\n",
    "    print(\"Probabilidades para el partido {}: \".format(i+1))\n",
    "    for j, label in enumerate(labels):\n",
    "        print(\"     {} : {:.2f}%\".format(label, prob[j]*100))"
   ]
  },
  {
   "cell_type": "code",
   "execution_count": 29,
   "metadata": {},
   "outputs": [],
   "source": [
    "goles_visitante=pd.read_csv(\"jornada32_goles_visitante.csv\")"
   ]
  },
  {
   "cell_type": "code",
   "execution_count": 30,
   "metadata": {},
   "outputs": [
    {
     "data": {
      "text/plain": [
       "array(['2', '1', '1', '0', '1', '1', '1', '0', '1', '2'], dtype='<U1')"
      ]
     },
     "execution_count": 30,
     "metadata": {},
     "output_type": "execute_result"
    }
   ],
   "source": [
    "rnd_clas6 = RandomForestClassifier(n_estimators=200,\n",
    "                                 max_leaf_nodes=30,\n",
    "                                 random_state=42)\n",
    "rnd_clas6.fit(X4, valores_etiquetados4)\n",
    "\n",
    "rnd_clas6.predict(goles_visitante)"
   ]
  },
  {
   "cell_type": "code",
   "execution_count": 31,
   "metadata": {},
   "outputs": [],
   "source": [
    "labels=rnd_clas6.classes_\n",
    "probs = rnd_clas6.predict_proba(goles_visitante)"
   ]
  },
  {
   "cell_type": "code",
   "execution_count": 32,
   "metadata": {},
   "outputs": [
    {
     "name": "stdout",
     "output_type": "stream",
     "text": [
      "Probabilidades para el partido 1: \n",
      "     0 : 23.49%\n",
      "     1 : 25.37%\n",
      "     2 : 40.52%\n",
      "     3 : 5.45%\n",
      "     4 : 1.91%\n",
      "     5 : 3.25%\n",
      "Probabilidades para el partido 2: \n",
      "     0 : 20.83%\n",
      "     1 : 58.27%\n",
      "     2 : 15.35%\n",
      "     3 : 4.97%\n",
      "     4 : 0.58%\n",
      "     5 : 0.00%\n",
      "Probabilidades para el partido 3: \n",
      "     0 : 28.91%\n",
      "     1 : 46.64%\n",
      "     2 : 21.06%\n",
      "     3 : 2.36%\n",
      "     4 : 0.89%\n",
      "     5 : 0.13%\n",
      "Probabilidades para el partido 4: \n",
      "     0 : 70.28%\n",
      "     1 : 19.15%\n",
      "     2 : 5.76%\n",
      "     3 : 4.32%\n",
      "     4 : 0.47%\n",
      "     5 : 0.03%\n",
      "Probabilidades para el partido 5: \n",
      "     0 : 24.00%\n",
      "     1 : 54.73%\n",
      "     2 : 16.72%\n",
      "     3 : 3.29%\n",
      "     4 : 1.24%\n",
      "     5 : 0.02%\n",
      "Probabilidades para el partido 6: \n",
      "     0 : 30.41%\n",
      "     1 : 50.86%\n",
      "     2 : 12.94%\n",
      "     3 : 2.09%\n",
      "     4 : 3.49%\n",
      "     5 : 0.21%\n",
      "Probabilidades para el partido 7: \n",
      "     0 : 30.53%\n",
      "     1 : 49.16%\n",
      "     2 : 15.62%\n",
      "     3 : 4.47%\n",
      "     4 : 0.15%\n",
      "     5 : 0.08%\n",
      "Probabilidades para el partido 8: \n",
      "     0 : 30.94%\n",
      "     1 : 25.40%\n",
      "     2 : 27.65%\n",
      "     3 : 6.50%\n",
      "     4 : 1.81%\n",
      "     5 : 7.70%\n",
      "Probabilidades para el partido 9: \n",
      "     0 : 32.13%\n",
      "     1 : 49.61%\n",
      "     2 : 13.61%\n",
      "     3 : 2.23%\n",
      "     4 : 2.28%\n",
      "     5 : 0.14%\n",
      "Probabilidades para el partido 10: \n",
      "     0 : 13.94%\n",
      "     1 : 32.57%\n",
      "     2 : 46.52%\n",
      "     3 : 5.81%\n",
      "     4 : 0.78%\n",
      "     5 : 0.38%\n"
     ]
    }
   ],
   "source": [
    "for i, prob in enumerate(probs):\n",
    "    print(\"Probabilidades para el partido {}: \".format(i+1))\n",
    "    for j, label in enumerate(labels):\n",
    "        print(\"     {} : {:.2f}%\".format(label, prob[j]*100))"
   ]
  },
  {
   "attachments": {},
   "cell_type": "markdown",
   "metadata": {},
   "source": [
    "Predicción J.33"
   ]
  },
  {
   "cell_type": "code",
   "execution_count": 33,
   "metadata": {},
   "outputs": [],
   "source": [
    "goles_local=pd.read_csv(\"jornada33_goles_local.csv\")"
   ]
  },
  {
   "cell_type": "code",
   "execution_count": 34,
   "metadata": {},
   "outputs": [
    {
     "data": {
      "text/plain": [
       "array(['1', '1', '2', '2', '0', '2', '1', '2', '2', '2'], dtype='<U1')"
      ]
     },
     "execution_count": 34,
     "metadata": {},
     "output_type": "execute_result"
    }
   ],
   "source": [
    "rnd_clas5 = RandomForestClassifier(n_estimators=200,\n",
    "                                 max_leaf_nodes=30,\n",
    "                                 random_state=42)\n",
    "rnd_clas5.fit(X3, valores_etiquetados3)\n",
    "\n",
    "rnd_clas5.predict(goles_local)"
   ]
  },
  {
   "cell_type": "code",
   "execution_count": 35,
   "metadata": {},
   "outputs": [],
   "source": [
    "labels=rnd_clas5.classes_\n",
    "probs = rnd_clas5.predict_proba(goles_local)"
   ]
  },
  {
   "cell_type": "code",
   "execution_count": 36,
   "metadata": {},
   "outputs": [
    {
     "name": "stdout",
     "output_type": "stream",
     "text": [
      "Probabilidades para el partido 1: \n",
      "     0 : 16.68%\n",
      "     1 : 31.10%\n",
      "     2 : 24.12%\n",
      "     3 : 14.94%\n",
      "     4 : 10.48%\n",
      "     5 : 0.54%\n",
      "     6 : 2.14%\n",
      "Probabilidades para el partido 2: \n",
      "     0 : 25.97%\n",
      "     1 : 35.01%\n",
      "     2 : 19.62%\n",
      "     3 : 12.31%\n",
      "     4 : 6.45%\n",
      "     5 : 0.16%\n",
      "     6 : 0.48%\n",
      "Probabilidades para el partido 3: \n",
      "     0 : 10.77%\n",
      "     1 : 24.96%\n",
      "     2 : 34.26%\n",
      "     3 : 15.25%\n",
      "     4 : 9.79%\n",
      "     5 : 1.18%\n",
      "     6 : 3.80%\n",
      "Probabilidades para el partido 4: \n",
      "     0 : 15.72%\n",
      "     1 : 24.44%\n",
      "     2 : 29.84%\n",
      "     3 : 15.89%\n",
      "     4 : 10.38%\n",
      "     5 : 0.41%\n",
      "     6 : 3.32%\n",
      "Probabilidades para el partido 5: \n",
      "     0 : 26.30%\n",
      "     1 : 25.06%\n",
      "     2 : 17.03%\n",
      "     3 : 20.28%\n",
      "     4 : 10.37%\n",
      "     5 : 0.53%\n",
      "     6 : 0.43%\n",
      "Probabilidades para el partido 6: \n",
      "     0 : 2.55%\n",
      "     1 : 9.23%\n",
      "     2 : 44.25%\n",
      "     3 : 21.79%\n",
      "     4 : 18.83%\n",
      "     5 : 0.03%\n",
      "     6 : 3.33%\n",
      "Probabilidades para el partido 7: \n",
      "     0 : 22.50%\n",
      "     1 : 27.84%\n",
      "     2 : 24.98%\n",
      "     3 : 16.86%\n",
      "     4 : 5.50%\n",
      "     5 : 1.48%\n",
      "     6 : 0.84%\n",
      "Probabilidades para el partido 8: \n",
      "     0 : 23.32%\n",
      "     1 : 25.26%\n",
      "     2 : 26.66%\n",
      "     3 : 16.00%\n",
      "     4 : 7.65%\n",
      "     5 : 0.16%\n",
      "     6 : 0.95%\n",
      "Probabilidades para el partido 9: \n",
      "     0 : 9.11%\n",
      "     1 : 24.52%\n",
      "     2 : 35.28%\n",
      "     3 : 19.62%\n",
      "     4 : 9.47%\n",
      "     5 : 0.25%\n",
      "     6 : 1.75%\n",
      "Probabilidades para el partido 10: \n",
      "     0 : 3.01%\n",
      "     1 : 15.99%\n",
      "     2 : 43.76%\n",
      "     3 : 19.87%\n",
      "     4 : 10.91%\n",
      "     5 : 0.20%\n",
      "     6 : 6.27%\n"
     ]
    }
   ],
   "source": [
    "for i, prob in enumerate(probs):\n",
    "    print(\"Probabilidades para el partido {}: \".format(i+1))\n",
    "    for j, label in enumerate(labels):\n",
    "        print(\"     {} : {:.2f}%\".format(label, prob[j]*100))"
   ]
  },
  {
   "cell_type": "code",
   "execution_count": 37,
   "metadata": {},
   "outputs": [],
   "source": [
    "goles_visitante=pd.read_csv(\"jornada33_goles_visitante.csv\")"
   ]
  },
  {
   "cell_type": "code",
   "execution_count": 38,
   "metadata": {},
   "outputs": [
    {
     "data": {
      "text/plain": [
       "array(['0', '2', '1', '1', '0', '1', '1', '1', '1', '1'], dtype='<U1')"
      ]
     },
     "execution_count": 38,
     "metadata": {},
     "output_type": "execute_result"
    }
   ],
   "source": [
    "rnd_clas6 = RandomForestClassifier(n_estimators=200,\n",
    "                                 max_leaf_nodes=30,\n",
    "                                 random_state=42)\n",
    "rnd_clas6.fit(X4, valores_etiquetados4)\n",
    "\n",
    "rnd_clas6.predict(goles_visitante)"
   ]
  },
  {
   "cell_type": "code",
   "execution_count": 39,
   "metadata": {},
   "outputs": [],
   "source": [
    "labels=rnd_clas6.classes_\n",
    "probs = rnd_clas6.predict_proba(goles_visitante)"
   ]
  },
  {
   "cell_type": "code",
   "execution_count": 40,
   "metadata": {},
   "outputs": [
    {
     "name": "stdout",
     "output_type": "stream",
     "text": [
      "Probabilidades para el partido 1: \n",
      "     0 : 61.64%\n",
      "     1 : 26.42%\n",
      "     2 : 8.82%\n",
      "     3 : 1.82%\n",
      "     4 : 1.30%\n",
      "     5 : 0.01%\n",
      "Probabilidades para el partido 2: \n",
      "     0 : 19.19%\n",
      "     1 : 25.54%\n",
      "     2 : 40.17%\n",
      "     3 : 6.37%\n",
      "     4 : 7.77%\n",
      "     5 : 0.97%\n",
      "Probabilidades para el partido 3: \n",
      "     0 : 36.73%\n",
      "     1 : 40.75%\n",
      "     2 : 15.08%\n",
      "     3 : 5.46%\n",
      "     4 : 1.86%\n",
      "     5 : 0.11%\n",
      "Probabilidades para el partido 4: \n",
      "     0 : 25.98%\n",
      "     1 : 43.00%\n",
      "     2 : 19.43%\n",
      "     3 : 7.77%\n",
      "     4 : 2.48%\n",
      "     5 : 1.33%\n",
      "Probabilidades para el partido 5: \n",
      "     0 : 39.90%\n",
      "     1 : 28.38%\n",
      "     2 : 18.76%\n",
      "     3 : 10.15%\n",
      "     4 : 2.76%\n",
      "     5 : 0.05%\n",
      "Probabilidades para el partido 6: \n",
      "     0 : 20.89%\n",
      "     1 : 52.29%\n",
      "     2 : 14.38%\n",
      "     3 : 9.71%\n",
      "     4 : 2.54%\n",
      "     5 : 0.19%\n",
      "Probabilidades para el partido 7: \n",
      "     0 : 25.21%\n",
      "     1 : 29.83%\n",
      "     2 : 23.91%\n",
      "     3 : 15.51%\n",
      "     4 : 4.83%\n",
      "     5 : 0.70%\n",
      "Probabilidades para el partido 8: \n",
      "     0 : 20.23%\n",
      "     1 : 43.22%\n",
      "     2 : 22.80%\n",
      "     3 : 8.13%\n",
      "     4 : 5.19%\n",
      "     5 : 0.43%\n",
      "Probabilidades para el partido 9: \n",
      "     0 : 13.87%\n",
      "     1 : 40.62%\n",
      "     2 : 34.37%\n",
      "     3 : 8.03%\n",
      "     4 : 2.77%\n",
      "     5 : 0.35%\n",
      "Probabilidades para el partido 10: \n",
      "     0 : 24.11%\n",
      "     1 : 46.68%\n",
      "     2 : 18.91%\n",
      "     3 : 7.62%\n",
      "     4 : 2.16%\n",
      "     5 : 0.53%\n"
     ]
    }
   ],
   "source": [
    "for i, prob in enumerate(probs):\n",
    "    print(\"Probabilidades para el partido {}: \".format(i+1))\n",
    "    for j, label in enumerate(labels):\n",
    "        print(\"     {} : {:.2f}%\".format(label, prob[j]*100))"
   ]
  },
  {
   "cell_type": "code",
   "execution_count": 41,
   "metadata": {},
   "outputs": [],
   "source": [
    "import pickle\n",
    "\n",
    "filename2 = 'goles_local_model.pkl'\n",
    "\n",
    "with open(filename2, 'wb') as archivo_salida:\n",
    "    pickle.dump(rnd_clas5, archivo_salida)"
   ]
  },
  {
   "cell_type": "code",
   "execution_count": 42,
   "metadata": {},
   "outputs": [],
   "source": [
    "filename3 = 'goles_visitante_model.pkl'\n",
    "\n",
    "with open(filename3, 'wb') as archivo_salida:\n",
    "    pickle.dump(rnd_clas6, archivo_salida)"
   ]
  }
 ],
 "metadata": {
  "kernelspec": {
   "display_name": "Python 3",
   "language": "python",
   "name": "python3"
  },
  "language_info": {
   "codemirror_mode": {
    "name": "ipython",
    "version": 3
   },
   "file_extension": ".py",
   "mimetype": "text/x-python",
   "name": "python",
   "nbconvert_exporter": "python",
   "pygments_lexer": "ipython3",
   "version": "3.7.4"
  },
  "orig_nbformat": 4
 },
 "nbformat": 4,
 "nbformat_minor": 2
}
